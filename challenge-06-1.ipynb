{
 "cells": [
  {
   "cell_type": "code",
   "execution_count": null,
   "metadata": {},
   "outputs": [],
   "source": [
    "test_file = \"data-01/test-input.txt\"\n",
    "main_file = \"data-01/input.txt\"\n",
    "\n",
    "from collections import deque"
   ]
  },
  {
   "cell_type": "code",
   "execution_count": null,
   "metadata": {},
   "outputs": [],
   "source": [
    "def datastream_buffers_from_file(input_file):\n",
    "    with open(input_file, \"r\") as f:\n",
    "        lines = f.readlines()\n",
    "\n",
    "    datastream_buffers = {\n",
    "        i+1: lines[i].strip() for i in range(len(lines))\n",
    "    }\n",
    "    return (datastream_buffers)"
   ]
  },
  {
   "cell_type": "code",
   "execution_count": null,
   "metadata": {},
   "outputs": [],
   "source": [
    "def find_first_start_of_packet_marker(s):\n",
    "    char_list = list(s)\n",
    "    # print(char_list)\n",
    "    move_queue = deque()\n",
    "    for i in range(len(char_list)):\n",
    "        move_queue.append(char_list[i])\n",
    "        if len(move_queue) < 4:\n",
    "            continue\n",
    "        if len(move_queue) > 4:\n",
    "            move_queue.popleft()\n",
    "        current_char_set = set(move_queue)\n",
    "        # print(current_char_set)\n",
    "        if len(current_char_set) == 4:\n",
    "            return (i+1)\n",
    "    return (-1)\n",
    "\n",
    "\n",
    "print(find_first_start_of_packet_marker('mjqjpqmgbljsphdztnvjfqwrcgsmlb'))\n",
    "print(find_first_start_of_packet_marker('nznrnfrfntjfmvfwmzdfjlvtqnbhcprsg'))"
   ]
  },
  {
   "cell_type": "code",
   "execution_count": null,
   "metadata": {},
   "outputs": [],
   "source": [
    "def challenge_06_1(input_file):\n",
    "    datastream_buffers = datastream_buffers_from_file(input_file)\n",
    "    # print(datastream_buffers)\n",
    "\n",
    "    start_of_packet_markers = {\n",
    "        k: find_first_start_of_packet_marker(v)\n",
    "        for k,v in datastream_buffers.items()\n",
    "    }\n",
    "   \n",
    "    return (start_of_packet_markers)\n",
    "\n",
    "\n",
    "\n",
    "challenge_06_1(input_file=test_file)"
   ]
  },
  {
   "cell_type": "code",
   "execution_count": null,
   "metadata": {},
   "outputs": [],
   "source": [
    "challenge_06_1(input_file=main_file)"
   ]
  }
 ],
 "metadata": {
  "kernelspec": {
   "display_name": "Python 3.11.0 ('base')",
   "language": "python",
   "name": "python3"
  },
  "language_info": {
   "codemirror_mode": {
    "name": "ipython",
    "version": 3
   },
   "file_extension": ".py",
   "mimetype": "text/x-python",
   "name": "python",
   "nbconvert_exporter": "python",
   "pygments_lexer": "ipython3",
   "version": "3.11.0"
  },
  "orig_nbformat": 4,
  "vscode": {
   "interpreter": {
    "hash": "d4d1e4263499bec80672ea0156c357c1ee493ec2b1c70f0acce89fc37c4a6abe"
   }
  }
 },
 "nbformat": 4,
 "nbformat_minor": 2
}
